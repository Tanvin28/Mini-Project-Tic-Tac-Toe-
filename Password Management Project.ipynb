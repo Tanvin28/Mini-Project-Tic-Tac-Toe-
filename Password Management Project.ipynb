{
 "cells": [
  {
   "cell_type": "code",
   "execution_count": null,
   "id": "323f5e3e",
   "metadata": {},
   "outputs": [],
   "source": [
    "'''\n",
    "In this program we first generate passwords for individual accounts such as Facebook, Instagram.\n",
    "Then we encrypt those passwords using cryptography module. Finally we save those encrypted passwords along with the account name\n",
    "in a file. We can read the file after decrypting the passwords also.\n",
    "'''\n",
    "        "
   ]
  },
  {
   "cell_type": "code",
   "execution_count": null,
   "id": "15b5bb4d",
   "metadata": {},
   "outputs": [],
   "source": [
    "from cryptography.fernet import Fernet\n",
    "def write_key():\n",
    "    with open('key.txt','wb') as f:\n",
    "        key=Fernet.generate_key()\n",
    "        f.write(key)\n",
    "\n",
    "def load_key():\n",
    "    with open('key.txt','rb') as f:\n",
    "        key=f.read()\n",
    "        return key\n",
    "write_key()\n",
    "load_key()"
   ]
  },
  {
   "cell_type": "code",
   "execution_count": null,
   "id": "7a2051cc",
   "metadata": {},
   "outputs": [],
   "source": [
    "import string\n",
    "import random\n",
    "upper_alpha=list(string.ascii_uppercase)\n",
    "lower_alpha=list(string.ascii_lowercase)\n",
    "special_char=['#','*','&','%','@','!','$']\n",
    "\n",
    "\n",
    "master_pwd=input(\"Enter the master password: \")\n",
    "encryp_key=load_key()+master_pwd.encode()\n",
    "fer=Fernet(encryp_key)\n",
    "\n",
    "def read():\n",
    "    with open('password_file.txt', 'r') as f:\n",
    "        for i in f.readlines():\n",
    "            account,pwd=i.split('- ')\n",
    "            \n",
    "            print('Account: ',account)\n",
    "            print(\"Password: \",fer.decrypt(pwd.encode()).decode())\n",
    "\n",
    "def add(account,password):\n",
    "    with open('password_file.txt', 'a') as f:\n",
    "        f.write(account +' '+ '-' + ' '+fer.encrypt(password.encode()).decode() + '\\n')\n",
    "\n",
    "        \n",
    "def pass_generator():\n",
    "    random.shuffle(upper_alpha)\n",
    "    random.shuffle(lower_alpha)\n",
    "    random.shuffle(special_char)\n",
    "    alpha=upper_alpha+lower_alpha\n",
    "    random.shuffle(alpha)\n",
    "    empty_list=[]\n",
    "    pwd=''\n",
    "    \n",
    "    for i in range(0,2):\n",
    "        if len(empty_list)<15:\n",
    "            for i in range(0,4):\n",
    "                empty_list.append(alpha[random.randint(0,51)])\n",
    "            for i in range(0,2):\n",
    "                empty_list.append(str(random.randint(0,9)))\n",
    "            empty_list.append(special_char[random.randint(0,6)])\n",
    "        \n",
    "            \n",
    "    \n",
    "    \n",
    "    \n",
    "    pwd=''.join(empty_list)\n",
    "    return pwd\n",
    "            \n",
    "        \n",
    "while True:\n",
    "    info=input(\"Do you want to add or read the file? Press 'q' to quit: \")\n",
    "    if info=='read':\n",
    "        read()\n",
    "    \n",
    "    elif info=='add':\n",
    "        acc_name=input('Enter account name: ')\n",
    "        acc_pass=pass_generator()\n",
    "        print('This is your new password: ',acc_pass)\n",
    "        add(acc_name,acc_pass)\n",
    "    elif info=='q':\n",
    "        break\n",
    "        "
   ]
  },
  {
   "cell_type": "code",
   "execution_count": null,
   "id": "c429bc2e",
   "metadata": {},
   "outputs": [],
   "source": []
  },
  {
   "cell_type": "code",
   "execution_count": null,
   "id": "cb905830",
   "metadata": {},
   "outputs": [],
   "source": []
  },
  {
   "cell_type": "code",
   "execution_count": null,
   "id": "20c2988a",
   "metadata": {},
   "outputs": [],
   "source": []
  },
  {
   "cell_type": "code",
   "execution_count": null,
   "id": "3f7c34f2",
   "metadata": {},
   "outputs": [],
   "source": []
  },
  {
   "cell_type": "code",
   "execution_count": null,
   "id": "56433b4d",
   "metadata": {},
   "outputs": [],
   "source": []
  },
  {
   "cell_type": "code",
   "execution_count": null,
   "id": "c941a29d",
   "metadata": {},
   "outputs": [],
   "source": []
  }
 ],
 "metadata": {
  "kernelspec": {
   "display_name": "Python 3",
   "language": "python",
   "name": "python3"
  },
  "language_info": {
   "codemirror_mode": {
    "name": "ipython",
    "version": 3
   },
   "file_extension": ".py",
   "mimetype": "text/x-python",
   "name": "python",
   "nbconvert_exporter": "python",
   "pygments_lexer": "ipython3",
   "version": "3.8.8"
  }
 },
 "nbformat": 4,
 "nbformat_minor": 5
}
