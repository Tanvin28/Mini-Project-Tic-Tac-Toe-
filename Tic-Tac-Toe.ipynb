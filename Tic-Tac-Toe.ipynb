{
 "cells": [
  {
   "cell_type": "code",
   "execution_count": 1,
   "id": "2e53becf",
   "metadata": {},
   "outputs": [
    {
     "name": "stdout",
     "output_type": "stream",
     "text": [
      "  1|2|3\n",
      " -------\n",
      "  4|5|6\n",
      " --------\n",
      "  7|8|9\n"
     ]
    }
   ],
   "source": [
    "print('  1|2|3')\n",
    "print(' -------')\n",
    "print('  4|5|6')\n",
    "print(' --------')\n",
    "print('  7|8|9')"
   ]
  },
  {
   "cell_type": "code",
   "execution_count": null,
   "id": "fea5c399",
   "metadata": {},
   "outputs": [],
   "source": [
    "'''\n",
    "This is how the numbering will be for this game as I am no using pygame to visualize the board\n",
    "'''"
   ]
  },
  {
   "cell_type": "code",
   "execution_count": 2,
   "id": "826b6db9",
   "metadata": {},
   "outputs": [],
   "source": [
    "import random"
   ]
  },
  {
   "cell_type": "code",
   "execution_count": 3,
   "id": "8d1188ef",
   "metadata": {},
   "outputs": [],
   "source": [
    "def tic_tac_toe():\n",
    "    number_pad=[1,2,3,4,5,6,7,8,9]\n",
    "    used_pad=[]\n",
    "    user_pad=[]\n",
    "    pc_pad=[]\n",
    "    win_pad=[[1,2,3],\n",
    "             [1,4,7],\n",
    "             [2,5,8],\n",
    "             [3,6,9],\n",
    "             [4,5,6],\n",
    "             [7,8,9],\n",
    "             [1,5,9],\n",
    "             [3,5,7]]\n",
    "    user_condition=''\n",
    "    pc_condition=''\n",
    "    while True:\n",
    "        user=int(input('Enter a number: '))\n",
    "        if user not in used_pad:\n",
    "            used_pad.append(user)\n",
    "            user_pad.append(user)\n",
    "        elif user in used_pad:\n",
    "            print(\"Enter another number which hasn;t been used\")\n",
    "            user=int(input('Enter a number: '))\n",
    "            used_pad.append(user)\n",
    "            user_pad.append(user)\n",
    "    \n",
    "        pc=random.randint(1,9)\n",
    "    \n",
    "        if pc not in used_pad:\n",
    "            used_pad.append(pc)\n",
    "            pc_pad.append(pc)\n",
    "            print(\"PC's move:\",pc)\n",
    "        elif pc in used_pad:\n",
    "        \n",
    "            while True:\n",
    "                pc=random.randint(1,9)\n",
    "                if pc not in used_pad:\n",
    "                    used_pad.append(pc)\n",
    "                    pc_pad.append(pc)\n",
    "                    print(\"PC's move:\",pc)\n",
    "                    break\n",
    "        if len(used_pad)>4:\n",
    "            for i in win_pad:\n",
    "                if set(i)==set(user_pad):\n",
    "                    user_condition+='w'\n",
    "                    print('User Wins')\n",
    "                    break\n",
    "                elif set(i)==set(pc_pad):\n",
    "                    pc_condition+='w'\n",
    "                    print(\"PC wins\")\n",
    "                    break         \n",
    "        if user_condition=='w'or pc_condition=='w':\n",
    "            break\n",
    "        \n",
    "        elif len(used_pad)>9:\n",
    "            break\n",
    "    \n",
    "        elif user==10:\n",
    "            break\n",
    "\n",
    "    "
   ]
  },
  {
   "cell_type": "code",
   "execution_count": 4,
   "id": "19b6cf7c",
   "metadata": {},
   "outputs": [
    {
     "name": "stdout",
     "output_type": "stream",
     "text": [
      "Enter a number: 3\n",
      "PC's move: 7\n",
      "Enter a number: 6\n",
      "PC's move: 2\n",
      "Enter a number: 9\n",
      "PC's move: 8\n",
      "User Wins\n"
     ]
    }
   ],
   "source": [
    "tic_tac_toe()"
   ]
  },
  {
   "cell_type": "code",
   "execution_count": null,
   "id": "0f8674ce",
   "metadata": {},
   "outputs": [],
   "source": []
  },
  {
   "cell_type": "code",
   "execution_count": null,
   "id": "d2f89610",
   "metadata": {},
   "outputs": [],
   "source": []
  },
  {
   "cell_type": "code",
   "execution_count": null,
   "id": "25b99fa7",
   "metadata": {},
   "outputs": [],
   "source": []
  },
  {
   "cell_type": "code",
   "execution_count": null,
   "id": "33505eda",
   "metadata": {},
   "outputs": [],
   "source": []
  },
  {
   "cell_type": "code",
   "execution_count": 5,
   "id": "2e8c6742",
   "metadata": {},
   "outputs": [],
   "source": []
  },
  {
   "cell_type": "code",
   "execution_count": null,
   "id": "6f6ca2dd",
   "metadata": {},
   "outputs": [],
   "source": [
    "\n",
    "    "
   ]
  },
  {
   "cell_type": "code",
   "execution_count": null,
   "id": "53b2f0b3",
   "metadata": {},
   "outputs": [],
   "source": []
  }
 ],
 "metadata": {
  "kernelspec": {
   "display_name": "Python 3",
   "language": "python",
   "name": "python3"
  },
  "language_info": {
   "codemirror_mode": {
    "name": "ipython",
    "version": 3
   },
   "file_extension": ".py",
   "mimetype": "text/x-python",
   "name": "python",
   "nbconvert_exporter": "python",
   "pygments_lexer": "ipython3",
   "version": "3.8.8"
  }
 },
 "nbformat": 4,
 "nbformat_minor": 5
}
